{
 "cells": [
  {
   "cell_type": "code",
   "execution_count": 33,
   "metadata": {
    "collapsed": false
   },
   "outputs": [],
   "source": [
    "a = \"dir\\n\\tsubdir1\\n\\tsubdir2\\n\\t\\tfile.ext\"\n",
    "a = \"sladjf\\n\\tlkjlkv\\n\\t\\tlkjlakjlert\\n\\t\\t\\tlaskjglaksjf\\n\\t\\t\\t\\tlakjgfljrtlj\\n\\t\\t\\t\\t\\tlskajflakjsvlj\\n\\t\\t\\t\\t\\t\\tlskgjflkjrtlrjt\\n\\t\\t\\t\\t\\t\\t\\tlkjglkjlvkjdlvkj\\n\\t\\t\\t\\t\\t\\t\\t\\tlfjkglkjfljdlv\\n\\t\\t\\t\\t\\t\\t\\t\\t\\tlkdfjglerjtkrjkljsd.lkvjlkajlfk\\n\\t\\t\\t\\t\\t\\t\\tlskfjlksjljslvjxjlvkzjljajoiwjejlskjslfj.slkjflskjldfkjoietruioskljfkljf\\n\\t\\t\\t\\t\\tlkasjfljsaljlxkcjzljvl.asljlksaj\\n\\t\\t\\t\\tasldjflksajf\\n\\t\\t\\t\\talskjflkasjlvkja\\n\\t\\t\\t\\twioeuoiwutrljsgfjlskfg\\n\\t\\t\\t\\taslkjvlksjvlkjsflgj\\n\\t\\t\\t\\t\\tlkvnlksfgk.salfkjaslfjskljfv\\n\\t\\t\\tlksdjflsajlkfj\\n\\t\\t\\tlasjflaskjlk\\n\\t\\tlsakjflkasjfkljas\\n\\t\\tlskjvljvlkjlsjfkgljfg\\n\\tsaljkglksajvlkjvkljlkjvksdj\\n\\tlsakjglksajkvjlkjdklvj\\n\\tlskjflksjglkdjbkljdbkjslkj\\n\\t\\tlkjglkfjkljsdflj\\n\\t\\t\\tlskjfglkjdfgkljsdflj\\n\\t\\t\\t\\tlkfjglksdjlkjbsdlkjbk\\n\\t\\t\\t\\t\\tlkfgjlejrtljkljsdflgjl\\n\\t\\t\\t\\t\\tsalgkfjlksfjgkljsgfjl\\n\\t\\t\\t\\t\\tsalkflajwoieu\\n\\t\\t\\t\\t\\t\\tlaskjfglsjfgljkkvjsdlkjbklds\\n\\t\\t\\t\\t\\t\\t\\tlasjglriotuojgkjsldfgjsklfgjl\\n\\t\\t\\t\\t\\t\\t\\t\\tlkajglkjskljsdljblkdfjblfjlbjs\\n\\t\\t\\t\\t\\t\\t\\t\\t\\tlkajgljroituksfglkjslkjgoi\\n\\t\\t\\t\\t\\t\\t\\t\\t\\t\\tlkjglkjkljkljdkbljsdfljgklfdj\\n\\t\\t\\t\\t\\t\\t\\t\\t\\t\\t\\tlkjlgkjljgslkdkldjblkj\\n\\t\\t\\t\\t\\t\\t\\t\\t\\t\\t\\t\\tlkjfglkjlkjbsdklj.slgfjalksjglkfjglf\\n\\t\\t\\t\\t\\t\\t\\t\\t\\t\\t\\t\\tlkasjrlkjwlrjljsl\\n\\t\\t\\t\\t\\t\\t\\t\\t\\t\\t\\t\\t\\tlksjgflkjfklgjljbljls\\n\\t\\t\\t\\t\\t\\t\\t\\t\\t\\t\\t\\t\\t\\tlkjsglkjlkjfkljdklbjkldf\\n\\t\\t\\t\\t\\t\\t\\t\\t\\t\\t\\t\\t\\t\\t\\tlkjglkjdlsfjdglsdjgjlxljjlrjsgjsjlk\\n\\t\\t\\t\\t\\t\\t\\t\\t\\t\\t\\t\\t\\t\\t\\t\\tlkjsgkllksjfgjljdslfkjlkasjdflkjxcljvlkjsgkljsfg\\n\\t\\t\\t\\t\\t\\t\\t\\t\\t\\t\\t\\t\\t\\t\\t\\t\\tlaskjlkjsakljglsdjfgksdjlkgjdlskjb\\n\\t\\t\\t\\t\\t\\t\\t\\t\\t\\t\\t\\t\\t\\t\\t\\t\\t\\tlkajsgfljfklgjlkdjgfklsdjklj\\n\\t\\t\\t\\t\\t\\t\\t\\t\\t\\t\\t\\t\\t\\t\\t\\t\\t\\t\\tlkjfglkjlkgjlkjl.aslkjflasjlajglkjaf\\n\\t\\t\\t\\t\\t\\t\\t\\t\\t\\t\\t\\t\\t\\t\\t\\t\\t\\t\\tlkjasflgjlskjglkfjgklgsdjflkbjsdklfjskldfjgklsfdjgklfdjgl\\n\\tlskadjlkjsldwwwwwfj\\n\\t\\tlkjflkasjlfjlkjajslfkjlasjkdlfjlaskjalvwwwwwwwwwwwwwwwkjlsjfglkjalsjgflkjaljlkdsjslbjsljksldjlsjdlkjljvblkjlkajfljgasljfkajgfljfjgldjblkjsdljgsldjg.skljf\"\n",
    "_a = a.split('\\n')"
   ]
  },
  {
   "cell_type": "code",
   "execution_count": 36,
   "metadata": {
    "collapsed": false
   },
   "outputs": [
    {
     "name": "stdout",
     "output_type": "stream",
     "text": [
      "6 6 ----\n",
      "12 12 ----\n",
      "23 23 ----\n",
      "35 35 ----\n",
      "47 47 ----\n",
      "61 61 ----\n",
      "76 76 ----\n",
      "92 92 ----\n",
      "106 106 ----\n",
      "137 137 ----\n",
      "148 148 ----\n",
      "79 148 ----\n",
      "47 148 ----\n",
      "51 148 ----\n",
      "57 148 ----\n",
      "54 148 ----\n",
      "82 148 ----\n",
      "37 148 ----\n",
      "35 148 ----\n",
      "29 148 ----\n",
      "33 148 ----\n",
      "33 148 ----\n",
      "28 148 ----\n",
      "32 148 ----\n",
      "48 148 ----\n",
      "68 148 ----\n",
      "89 148 ----\n",
      "111 148 ----\n",
      "110 148 ----\n",
      "102 148 ----\n",
      "130 148 ----\n",
      "159 159 ----\n",
      "189 189 ----\n",
      "215 215 ----\n",
      "244 244 ----\n",
      "266 266 ----\n",
      "302 302 ----\n",
      "283 302 ----\n",
      "304 304 ----\n",
      "328 328 ----\n",
      "363 363 ----\n",
      "411 411 ----\n",
      "445 445 ----\n",
      "473 473 ----\n",
      "509 509 ----\n",
      "530 530 ----\n",
      "25 530 ----\n",
      "178 530 ----\n"
     ]
    },
    {
     "data": {
      "text/plain": [
       "530"
      ]
     },
     "execution_count": 36,
     "metadata": {},
     "output_type": "execute_result"
    }
   ],
   "source": [
    "from collections import defaultdict\n",
    "tmp = defaultdict(int)\n",
    "max = 0\n",
    "for l in _a:\n",
    "    _split = l.split('\\t')\n",
    "    level = len(_split)\n",
    "    tmp[level] = len(_split[-1])\n",
    "    l = sum([tmp[i] for i in range(level+1)])\n",
    "    max = l if l > max else max\n",
    "    print(l, max, '----')\n",
    "max"
   ]
  }
 ],
 "metadata": {
  "kernelspec": {
   "display_name": "Python 3",
   "language": "python",
   "name": "python3"
  },
  "language_info": {
   "codemirror_mode": {
    "name": "ipython",
    "version": 3
   },
   "file_extension": ".py",
   "mimetype": "text/x-python",
   "name": "python",
   "nbconvert_exporter": "python",
   "pygments_lexer": "ipython3",
   "version": "3.5.2"
  }
 },
 "nbformat": 4,
 "nbformat_minor": 2
}
